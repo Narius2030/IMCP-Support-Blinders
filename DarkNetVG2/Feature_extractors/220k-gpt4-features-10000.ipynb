{
 "cells": [
  {
   "cell_type": "code",
   "execution_count": 1,
   "id": "8055abf6",
   "metadata": {
    "_cell_guid": "b1076dfc-b9ad-4769-8c92-a6c4dae69d19",
    "_uuid": "8f2839f25d086af736a60e9eeb907d3b93b6e0e5",
    "execution": {
     "iopub.execute_input": "2024-11-25T09:04:56.488139Z",
     "iopub.status.busy": "2024-11-25T09:04:56.487423Z",
     "iopub.status.idle": "2024-11-25T09:05:06.600246Z",
     "shell.execute_reply": "2024-11-25T09:05:06.599248Z"
    },
    "papermill": {
     "duration": 10.118917,
     "end_time": "2024-11-25T09:05:06.602487",
     "exception": false,
     "start_time": "2024-11-25T09:04:56.483570",
     "status": "completed"
    },
    "tags": []
   },
   "outputs": [],
   "source": [
    "!pip install ultralytics -q "
   ]
  },
  {
   "cell_type": "code",
   "execution_count": 2,
   "id": "332837e5",
   "metadata": {
    "execution": {
     "iopub.execute_input": "2024-11-25T09:05:06.609147Z",
     "iopub.status.busy": "2024-11-25T09:05:06.608860Z",
     "iopub.status.idle": "2024-11-25T09:05:23.971688Z",
     "shell.execute_reply": "2024-11-25T09:05:23.970771Z"
    },
    "papermill": {
     "duration": 17.368503,
     "end_time": "2024-11-25T09:05:23.973811",
     "exception": false,
     "start_time": "2024-11-25T09:05:06.605308",
     "status": "completed"
    },
    "tags": []
   },
   "outputs": [
    {
     "name": "stdout",
     "output_type": "stream",
     "text": [
      "Creating new Ultralytics Settings v0.0.6 file ✅ \n",
      "View Ultralytics Settings with 'yolo settings' or at '/root/.config/Ultralytics/settings.json'\n",
      "Update Settings with 'yolo settings key=value', i.e. 'yolo settings runs_dir=path/to/dir'. For help see https://docs.ultralytics.com/quickstart/#ultralytics-settings.\n"
     ]
    }
   ],
   "source": [
    "# Nhập các thư viện cần thiết cho dự án\n",
    "import os  # Thư viện để tương tác với hệ thống tệp\n",
    "import pickle  # Thư viện để lưu trữ và tải dữ liệu Python dưới dạng nhị phân\n",
    "import numpy as np  # Thư viện cho tính toán số học với mảng n-dimensional\n",
    "import pandas as pd  # Thư viện để xử lý và phân tích dữ liệu\n",
    "from tqdm.notebook import tqdm  # Thư viện để hiển thị thanh tiến trình trong các vòng lặp\n",
    "from PIL import Image  # Thư viện để xử lý hình ảnh\n",
    "import requests  # Thư viện để gửi các yêu cầu HTTP\n",
    "from io import BytesIO  # Cung cấp một cách để làm việc với dữ liệu nhị phân trong bộ nhớ\n",
    "\n",
    "# Nhập các thư viện TensorFlow và Keras cho học sâu\n",
    "import tensorflow  # Thư viện cho học sâu\n",
    "from tensorflow import keras  # API cao cấp cho TensorFlow\n",
    "from tensorflow.keras.applications.vgg16 import VGG16, preprocess_input  # Mô hình VGG16 và hàm tiền xử lý\n",
    "from tensorflow.keras.preprocessing.image import load_img, img_to_array  # Hàm để tải và chuyển đổi hình ảnh\n",
    "from tensorflow.keras.preprocessing.text import Tokenizer  # Dùng để chuyển đổi văn bản thành các số nguyên (token)\n",
    "from tensorflow.keras.preprocessing.sequence import pad_sequences  # Hàm để điều chỉnh độ dài của các chuỗi đầu vào\n",
    "from tensorflow.keras.models import Model, load_model  # Các lớp để xây dựng và tải mô hình Keras\n",
    "from tensorflow.keras.utils import to_categorical, plot_model  # Hàm để chuyển đổi nhãn thành dạng one-hot encoding và vẽ mô hình\n",
    "from tensorflow.keras.layers import Input, Dense, LSTM, Embedding, Dropout, add, Flatten  # Các lớp để xây dựng mô hình mạng nơ-ron\n",
    "\n",
    "# Nhập các thư viện từ Transformers cho xử lý ngôn ngữ tự nhiên\n",
    "from transformers import BertTokenizer, BertModel  # Dùng để mã hóa văn bản cho mô hình BERT\n",
    "\n",
    "# Nhập các thư viện từ Ultralytics cho phát hiện đối tượng\n",
    "from ultralytics.nn.tasks import DetectionModel  # Lớp để xây dựng mô hình phát hiện đối tượng\n",
    "from ultralytics.nn.tasks import attempt_load_one_weight  # Hàm để tải trọng số cho mô hình\n",
    "from ultralytics import YOLO  # Mô hình YOLO để phát hiện đối tượng\n",
    "\n",
    "# Nhập các thư viện PyTorch và OpenCV cho xử lý hình ảnh\n",
    "import torch  # Thư viện cho học sâu với PyTorch\n",
    "import cv2  # Thư viện OpenCV để xử lý hình ảnh\n",
    "from torchvision import transforms  # Các hàm để thực hiện các phép biến đổi trên hình ảnh trong PyTorch"
   ]
  },
  {
   "cell_type": "code",
   "execution_count": 3,
   "id": "7bbadab8",
   "metadata": {
    "execution": {
     "iopub.execute_input": "2024-11-25T09:05:23.980288Z",
     "iopub.status.busy": "2024-11-25T09:05:23.979838Z",
     "iopub.status.idle": "2024-11-25T09:05:23.983395Z",
     "shell.execute_reply": "2024-11-25T09:05:23.982693Z"
    },
    "papermill": {
     "duration": 0.008386,
     "end_time": "2024-11-25T09:05:23.984946",
     "exception": false,
     "start_time": "2024-11-25T09:05:23.976560",
     "status": "completed"
    },
    "tags": []
   },
   "outputs": [],
   "source": [
    "BASE_DIR = '/kaggle/input/dataset'\n",
    "WORKING_DIR = '/kaggle/working/'"
   ]
  },
  {
   "cell_type": "code",
   "execution_count": 4,
   "id": "522a48de",
   "metadata": {
    "execution": {
     "iopub.execute_input": "2024-11-25T09:05:23.990815Z",
     "iopub.status.busy": "2024-11-25T09:05:23.990352Z",
     "iopub.status.idle": "2024-11-25T09:05:24.750448Z",
     "shell.execute_reply": "2024-11-25T09:05:24.749592Z"
    },
    "papermill": {
     "duration": 0.765043,
     "end_time": "2024-11-25T09:05:24.752398",
     "exception": false,
     "start_time": "2024-11-25T09:05:23.987355",
     "status": "completed"
    },
    "tags": []
   },
   "outputs": [
    {
     "name": "stdout",
     "output_type": "stream",
     "text": [
      "Downloading https://github.com/ultralytics/assets/releases/download/v8.3.0/yolov8n.pt to 'yolov8n.pt'...\n"
     ]
    },
    {
     "name": "stderr",
     "output_type": "stream",
     "text": [
      "100%|██████████| 6.25M/6.25M [00:00<00:00, 105MB/s]\n"
     ]
    }
   ],
   "source": [
    "# Tải mô hình YOLO\n",
    "model = YOLO('yolov8n.pt') "
   ]
  },
  {
   "cell_type": "code",
   "execution_count": 5,
   "id": "e33a042a",
   "metadata": {
    "execution": {
     "iopub.execute_input": "2024-11-25T09:05:24.760793Z",
     "iopub.status.busy": "2024-11-25T09:05:24.760518Z",
     "iopub.status.idle": "2024-11-25T09:05:24.801386Z",
     "shell.execute_reply": "2024-11-25T09:05:24.800580Z"
    },
    "papermill": {
     "duration": 0.047175,
     "end_time": "2024-11-25T09:05:24.803332",
     "exception": false,
     "start_time": "2024-11-25T09:05:24.756157",
     "status": "completed"
    },
    "tags": []
   },
   "outputs": [],
   "source": [
    "# Đọc ảnh bằng OpenCV\n",
    "image_path = \"/kaggle/input/test-data-encode-25-11-2024/boy_cycle.jpg\"  # Đường dẫn đến ảnh cần đọc\n",
    "image = cv2.imread(image_path)  # Đọc ảnh từ đường dẫn\n",
    "\n",
    "# Chuyển đổi từ BGR (OpenCV) sang RGB\n",
    "image = cv2.cvtColor(image, cv2.COLOR_BGR2RGB)  # OpenCV đọc ảnh theo định dạng BGR, chuyển đổi sang RGB\n",
    "\n",
    "# Hàm tiền xử lý ảnh thành tensor cho YOLO\n",
    "def preprocess_image(image):\n",
    "    # Định nghĩa các bước tiền xử lý\n",
    "    preprocess = transforms.Compose([\n",
    "        transforms.ToPILImage(),  # Chuyển từ numpy array sang định dạng PIL Image\n",
    "        transforms.Resize((640, 640)),  # Thay đổi kích thước ảnh về 640x640 pixel\n",
    "        transforms.ToTensor(),  # Chuyển đổi hình ảnh thành tensor\n",
    "        # Chuẩn hóa hình ảnh theo chuẩn của ImageNet\n",
    "        transforms.Normalize(mean=[0.485, 0.456, 0.406], std=[0.229, 0.224, 0.225])  \n",
    "    ])\n",
    "    tensor_image = preprocess(image).unsqueeze(0)  # Thêm batch dimension (kích thước 1 cho batch)\n",
    "    return tensor_image  # Trả về tensor đã được tiền xử lý"
   ]
  },
  {
   "cell_type": "code",
   "execution_count": 6,
   "id": "50f65ba2",
   "metadata": {
    "execution": {
     "iopub.execute_input": "2024-11-25T09:05:24.812788Z",
     "iopub.status.busy": "2024-11-25T09:05:24.812498Z",
     "iopub.status.idle": "2024-11-25T09:05:24.856889Z",
     "shell.execute_reply": "2024-11-25T09:05:24.856074Z"
    },
    "papermill": {
     "duration": 0.051772,
     "end_time": "2024-11-25T09:05:24.858697",
     "exception": false,
     "start_time": "2024-11-25T09:05:24.806925",
     "status": "completed"
    },
    "tags": []
   },
   "outputs": [],
   "source": [
    "# Tải mô hình YOLOv8\n",
    "model = YOLO('yolov8n.pt')  # Tải mô hình YOLOv8 từ tệp trọng số đã lưu\n",
    "\n",
    "# Truy cập các lớp backbone\n",
    "backbone = model.model.model[:10]  # Các lớp từ 0 đến 9 tạo thành backbone của mô hình\n",
    "\n",
    "# Tạo một mô hình Sequential mới chỉ với các lớp backbone\n",
    "backbone_model = torch.nn.Sequential(*backbone)  # Kết hợp các lớp backbone thành một mô hình tuần tự"
   ]
  },
  {
   "cell_type": "code",
   "execution_count": 7,
   "id": "9b66f21b",
   "metadata": {
    "execution": {
     "iopub.execute_input": "2024-11-25T09:05:24.867016Z",
     "iopub.status.busy": "2024-11-25T09:05:24.866507Z",
     "iopub.status.idle": "2024-11-25T09:05:24.870343Z",
     "shell.execute_reply": "2024-11-25T09:05:24.869576Z"
    },
    "papermill": {
     "duration": 0.009719,
     "end_time": "2024-11-25T09:05:24.871998",
     "exception": false,
     "start_time": "2024-11-25T09:05:24.862279",
     "status": "completed"
    },
    "tags": []
   },
   "outputs": [],
   "source": [
    "# If you want to use the backbone for feature extraction\n",
    "def extract_features(image):\n",
    "    with torch.no_grad():\n",
    "        features = backbone_model(image)\n",
    "    return features"
   ]
  },
  {
   "cell_type": "code",
   "execution_count": 8,
   "id": "35f8b19f",
   "metadata": {
    "execution": {
     "iopub.execute_input": "2024-11-25T09:05:24.880156Z",
     "iopub.status.busy": "2024-11-25T09:05:24.879906Z",
     "iopub.status.idle": "2024-11-25T09:05:28.837207Z",
     "shell.execute_reply": "2024-11-25T09:05:28.836475Z"
    },
    "papermill": {
     "duration": 3.963517,
     "end_time": "2024-11-25T09:05:28.839174",
     "exception": false,
     "start_time": "2024-11-25T09:05:24.875657",
     "status": "completed"
    },
    "tags": []
   },
   "outputs": [],
   "source": [
    "# Load data from 220k-GPT4\n",
    "data = pd.read_parquet(\"hf://datasets/laion/220k-GPT4Vision-captions-from-LIVIS/lvis_caption_url.parquet\")"
   ]
  },
  {
   "cell_type": "code",
   "execution_count": 9,
   "id": "d2d7534b",
   "metadata": {
    "execution": {
     "iopub.execute_input": "2024-11-25T09:05:28.846255Z",
     "iopub.status.busy": "2024-11-25T09:05:28.846004Z",
     "iopub.status.idle": "2024-11-25T09:05:28.849928Z",
     "shell.execute_reply": "2024-11-25T09:05:28.849126Z"
    },
    "papermill": {
     "duration": 0.00924,
     "end_time": "2024-11-25T09:05:28.851503",
     "exception": false,
     "start_time": "2024-11-25T09:05:28.842263",
     "status": "completed"
    },
    "tags": []
   },
   "outputs": [],
   "source": [
    "df = data.head(10000)"
   ]
  },
  {
   "cell_type": "code",
   "execution_count": 10,
   "id": "127675c8",
   "metadata": {
    "execution": {
     "iopub.execute_input": "2024-11-25T09:05:28.858013Z",
     "iopub.status.busy": "2024-11-25T09:05:28.857787Z",
     "iopub.status.idle": "2024-11-25T10:21:53.589975Z",
     "shell.execute_reply": "2024-11-25T10:21:53.588966Z"
    },
    "papermill": {
     "duration": 4584.737534,
     "end_time": "2024-11-25T10:21:53.591861",
     "exception": false,
     "start_time": "2024-11-25T09:05:28.854327",
     "status": "completed"
    },
    "tags": []
   },
   "outputs": [
    {
     "data": {
      "application/vnd.jupyter.widget-view+json": {
       "model_id": "7b5630d99a5045079c85bff3cf576d04",
       "version_major": 2,
       "version_minor": 0
      },
      "text/plain": [
       "  0%|          | 0/10000 [00:00<?, ?it/s]"
      ]
     },
     "metadata": {},
     "output_type": "display_data"
    }
   ],
   "source": [
    "# extract features from image\n",
    "features = {}\n",
    "\n",
    "for url in tqdm(df['url']):\n",
    "    response = requests.get(url)\n",
    "    image_array = np.asarray(bytearray(response.content), dtype=np.uint8)\n",
    "\n",
    "    # Đọc ảnh bằng OpenCV\n",
    "    image = cv2.imdecode(image_array, cv2.IMREAD_COLOR)\n",
    "\n",
    "    # Chuyển đổi từ BGR (OpenCV) sang RGB\n",
    "    image_rgb = cv2.cvtColor(image, cv2.COLOR_BGR2RGB)\n",
    "\n",
    "    # Chuyển đổi ảnh thành định dạng tensor phù hợp cho mô hình\n",
    "    transformed_image = preprocess_image(image_rgb)\n",
    "    feature_matrix = extract_features(transformed_image)\n",
    "\n",
    "    # get image ID\n",
    "    image_id = url\n",
    "\n",
    "    # store feature\n",
    "    features[image_id] = feature_matrix\n"
   ]
  },
  {
   "cell_type": "code",
   "execution_count": 11,
   "id": "4793e8e3",
   "metadata": {
    "execution": {
     "iopub.execute_input": "2024-11-25T10:21:53.599664Z",
     "iopub.status.busy": "2024-11-25T10:21:53.599337Z",
     "iopub.status.idle": "2024-11-25T10:22:01.735521Z",
     "shell.execute_reply": "2024-11-25T10:22:01.734778Z"
    },
    "papermill": {
     "duration": 8.142213,
     "end_time": "2024-11-25T10:22:01.737490",
     "exception": false,
     "start_time": "2024-11-25T10:21:53.595277",
     "status": "completed"
    },
    "tags": []
   },
   "outputs": [],
   "source": [
    "# store features in pickle\n",
    "# pickle.dump(features, open(os.path.join(WORKING_DIR, 'features.pkl'), 'wb'))\n",
    "file_path = os.path.join(WORKING_DIR, '220k_GPT4_features_10000.pkl')\n",
    "\n",
    "# Tạo các thư mục nếu chúng chưa tồn tại\n",
    "os.makedirs(WORKING_DIR, exist_ok=True)\n",
    "\n",
    "# Lưu dữ liệu vào tệp\n",
    "with open(file_path, 'wb') as f:\n",
    "    pickle.dump(features, f)"
   ]
  },
  {
   "cell_type": "code",
   "execution_count": 12,
   "id": "2c740643",
   "metadata": {
    "execution": {
     "iopub.execute_input": "2024-11-25T10:22:01.744739Z",
     "iopub.status.busy": "2024-11-25T10:22:01.744485Z",
     "iopub.status.idle": "2024-11-25T10:22:01.747907Z",
     "shell.execute_reply": "2024-11-25T10:22:01.747251Z"
    },
    "papermill": {
     "duration": 0.00871,
     "end_time": "2024-11-25T10:22:01.749375",
     "exception": false,
     "start_time": "2024-11-25T10:22:01.740665",
     "status": "completed"
    },
    "tags": []
   },
   "outputs": [],
   "source": [
    "# # load features from pickle\n",
    "# with open(os.path.join('/kaggle/input/image-feature-yolov8/220k_GPT4_features_10000.pkl'), 'rb') as f:\n",
    "#   features = pickle.load(f)"
   ]
  },
  {
   "cell_type": "code",
   "execution_count": 13,
   "id": "12dd7177",
   "metadata": {
    "execution": {
     "iopub.execute_input": "2024-11-25T10:22:01.756310Z",
     "iopub.status.busy": "2024-11-25T10:22:01.756070Z",
     "iopub.status.idle": "2024-11-25T10:22:01.759499Z",
     "shell.execute_reply": "2024-11-25T10:22:01.758738Z"
    },
    "papermill": {
     "duration": 0.00869,
     "end_time": "2024-11-25T10:22:01.761036",
     "exception": false,
     "start_time": "2024-11-25T10:22:01.752346",
     "status": "completed"
    },
    "tags": []
   },
   "outputs": [],
   "source": [
    "# features['http://images.cocodataset.org/val2017/000000037777.jpg'].size()"
   ]
  }
 ],
 "metadata": {
  "kaggle": {
   "accelerator": "none",
   "dataSources": [
    {
     "datasetId": 6159834,
     "sourceId": 10006541,
     "sourceType": "datasetVersion"
    },
    {
     "sourceId": 209498740,
     "sourceType": "kernelVersion"
    }
   ],
   "dockerImageVersionId": 30787,
   "isGpuEnabled": false,
   "isInternetEnabled": true,
   "language": "python",
   "sourceType": "notebook"
  },
  "kernelspec": {
   "display_name": "Python 3",
   "language": "python",
   "name": "python3"
  },
  "language_info": {
   "codemirror_mode": {
    "name": "ipython",
    "version": 3
   },
   "file_extension": ".py",
   "mimetype": "text/x-python",
   "name": "python",
   "nbconvert_exporter": "python",
   "pygments_lexer": "ipython3",
   "version": "3.10.14"
  },
  "papermill": {
   "default_parameters": {},
   "duration": 4631.274849,
   "end_time": "2024-11-25T10:22:05.365559",
   "environment_variables": {},
   "exception": null,
   "input_path": "__notebook__.ipynb",
   "output_path": "__notebook__.ipynb",
   "parameters": {},
   "start_time": "2024-11-25T09:04:54.090710",
   "version": "2.6.0"
  },
  "widgets": {
   "application/vnd.jupyter.widget-state+json": {
    "state": {
     "13a23942e80e43e59269e182f89a31b7": {
      "model_module": "@jupyter-widgets/base",
      "model_module_version": "1.2.0",
      "model_name": "LayoutModel",
      "state": {
       "_model_module": "@jupyter-widgets/base",
       "_model_module_version": "1.2.0",
       "_model_name": "LayoutModel",
       "_view_count": null,
       "_view_module": "@jupyter-widgets/base",
       "_view_module_version": "1.2.0",
       "_view_name": "LayoutView",
       "align_content": null,
       "align_items": null,
       "align_self": null,
       "border": null,
       "bottom": null,
       "display": null,
       "flex": null,
       "flex_flow": null,
       "grid_area": null,
       "grid_auto_columns": null,
       "grid_auto_flow": null,
       "grid_auto_rows": null,
       "grid_column": null,
       "grid_gap": null,
       "grid_row": null,
       "grid_template_areas": null,
       "grid_template_columns": null,
       "grid_template_rows": null,
       "height": null,
       "justify_content": null,
       "justify_items": null,
       "left": null,
       "margin": null,
       "max_height": null,
       "max_width": null,
       "min_height": null,
       "min_width": null,
       "object_fit": null,
       "object_position": null,
       "order": null,
       "overflow": null,
       "overflow_x": null,
       "overflow_y": null,
       "padding": null,
       "right": null,
       "top": null,
       "visibility": null,
       "width": null
      }
     },
     "250e370de9764bc2b6a3037904bdf327": {
      "model_module": "@jupyter-widgets/controls",
      "model_module_version": "1.5.0",
      "model_name": "DescriptionStyleModel",
      "state": {
       "_model_module": "@jupyter-widgets/controls",
       "_model_module_version": "1.5.0",
       "_model_name": "DescriptionStyleModel",
       "_view_count": null,
       "_view_module": "@jupyter-widgets/base",
       "_view_module_version": "1.2.0",
       "_view_name": "StyleView",
       "description_width": ""
      }
     },
     "2866f888d4f549dcba940a5b8ee51550": {
      "model_module": "@jupyter-widgets/controls",
      "model_module_version": "1.5.0",
      "model_name": "DescriptionStyleModel",
      "state": {
       "_model_module": "@jupyter-widgets/controls",
       "_model_module_version": "1.5.0",
       "_model_name": "DescriptionStyleModel",
       "_view_count": null,
       "_view_module": "@jupyter-widgets/base",
       "_view_module_version": "1.2.0",
       "_view_name": "StyleView",
       "description_width": ""
      }
     },
     "3f92c0e4aeae430e82b3755ac6aebe4a": {
      "model_module": "@jupyter-widgets/base",
      "model_module_version": "1.2.0",
      "model_name": "LayoutModel",
      "state": {
       "_model_module": "@jupyter-widgets/base",
       "_model_module_version": "1.2.0",
       "_model_name": "LayoutModel",
       "_view_count": null,
       "_view_module": "@jupyter-widgets/base",
       "_view_module_version": "1.2.0",
       "_view_name": "LayoutView",
       "align_content": null,
       "align_items": null,
       "align_self": null,
       "border": null,
       "bottom": null,
       "display": null,
       "flex": null,
       "flex_flow": null,
       "grid_area": null,
       "grid_auto_columns": null,
       "grid_auto_flow": null,
       "grid_auto_rows": null,
       "grid_column": null,
       "grid_gap": null,
       "grid_row": null,
       "grid_template_areas": null,
       "grid_template_columns": null,
       "grid_template_rows": null,
       "height": null,
       "justify_content": null,
       "justify_items": null,
       "left": null,
       "margin": null,
       "max_height": null,
       "max_width": null,
       "min_height": null,
       "min_width": null,
       "object_fit": null,
       "object_position": null,
       "order": null,
       "overflow": null,
       "overflow_x": null,
       "overflow_y": null,
       "padding": null,
       "right": null,
       "top": null,
       "visibility": null,
       "width": null
      }
     },
     "4ffef71814df4d3cb200bdee3cbb5bee": {
      "model_module": "@jupyter-widgets/controls",
      "model_module_version": "1.5.0",
      "model_name": "HTMLModel",
      "state": {
       "_dom_classes": [],
       "_model_module": "@jupyter-widgets/controls",
       "_model_module_version": "1.5.0",
       "_model_name": "HTMLModel",
       "_view_count": null,
       "_view_module": "@jupyter-widgets/controls",
       "_view_module_version": "1.5.0",
       "_view_name": "HTMLView",
       "description": "",
       "description_tooltip": null,
       "layout": "IPY_MODEL_5022a7b6209b4152a96ac77635399951",
       "placeholder": "​",
       "style": "IPY_MODEL_2866f888d4f549dcba940a5b8ee51550",
       "value": " 10000/10000 [1:16:24&lt;00:00,  2.29it/s]"
      }
     },
     "5022a7b6209b4152a96ac77635399951": {
      "model_module": "@jupyter-widgets/base",
      "model_module_version": "1.2.0",
      "model_name": "LayoutModel",
      "state": {
       "_model_module": "@jupyter-widgets/base",
       "_model_module_version": "1.2.0",
       "_model_name": "LayoutModel",
       "_view_count": null,
       "_view_module": "@jupyter-widgets/base",
       "_view_module_version": "1.2.0",
       "_view_name": "LayoutView",
       "align_content": null,
       "align_items": null,
       "align_self": null,
       "border": null,
       "bottom": null,
       "display": null,
       "flex": null,
       "flex_flow": null,
       "grid_area": null,
       "grid_auto_columns": null,
       "grid_auto_flow": null,
       "grid_auto_rows": null,
       "grid_column": null,
       "grid_gap": null,
       "grid_row": null,
       "grid_template_areas": null,
       "grid_template_columns": null,
       "grid_template_rows": null,
       "height": null,
       "justify_content": null,
       "justify_items": null,
       "left": null,
       "margin": null,
       "max_height": null,
       "max_width": null,
       "min_height": null,
       "min_width": null,
       "object_fit": null,
       "object_position": null,
       "order": null,
       "overflow": null,
       "overflow_x": null,
       "overflow_y": null,
       "padding": null,
       "right": null,
       "top": null,
       "visibility": null,
       "width": null
      }
     },
     "5fd708a8a8884dd1af8de5220262d7a2": {
      "model_module": "@jupyter-widgets/controls",
      "model_module_version": "1.5.0",
      "model_name": "FloatProgressModel",
      "state": {
       "_dom_classes": [],
       "_model_module": "@jupyter-widgets/controls",
       "_model_module_version": "1.5.0",
       "_model_name": "FloatProgressModel",
       "_view_count": null,
       "_view_module": "@jupyter-widgets/controls",
       "_view_module_version": "1.5.0",
       "_view_name": "ProgressView",
       "bar_style": "success",
       "description": "",
       "description_tooltip": null,
       "layout": "IPY_MODEL_3f92c0e4aeae430e82b3755ac6aebe4a",
       "max": 10000.0,
       "min": 0.0,
       "orientation": "horizontal",
       "style": "IPY_MODEL_bb72b3cd17d747118dbfec8201c5d5ad",
       "value": 10000.0
      }
     },
     "7b5630d99a5045079c85bff3cf576d04": {
      "model_module": "@jupyter-widgets/controls",
      "model_module_version": "1.5.0",
      "model_name": "HBoxModel",
      "state": {
       "_dom_classes": [],
       "_model_module": "@jupyter-widgets/controls",
       "_model_module_version": "1.5.0",
       "_model_name": "HBoxModel",
       "_view_count": null,
       "_view_module": "@jupyter-widgets/controls",
       "_view_module_version": "1.5.0",
       "_view_name": "HBoxView",
       "box_style": "",
       "children": [
        "IPY_MODEL_afd93399393842f48d81dcf124c7a4da",
        "IPY_MODEL_5fd708a8a8884dd1af8de5220262d7a2",
        "IPY_MODEL_4ffef71814df4d3cb200bdee3cbb5bee"
       ],
       "layout": "IPY_MODEL_d1910389000843a89175e2787612855e"
      }
     },
     "afd93399393842f48d81dcf124c7a4da": {
      "model_module": "@jupyter-widgets/controls",
      "model_module_version": "1.5.0",
      "model_name": "HTMLModel",
      "state": {
       "_dom_classes": [],
       "_model_module": "@jupyter-widgets/controls",
       "_model_module_version": "1.5.0",
       "_model_name": "HTMLModel",
       "_view_count": null,
       "_view_module": "@jupyter-widgets/controls",
       "_view_module_version": "1.5.0",
       "_view_name": "HTMLView",
       "description": "",
       "description_tooltip": null,
       "layout": "IPY_MODEL_13a23942e80e43e59269e182f89a31b7",
       "placeholder": "​",
       "style": "IPY_MODEL_250e370de9764bc2b6a3037904bdf327",
       "value": "100%"
      }
     },
     "bb72b3cd17d747118dbfec8201c5d5ad": {
      "model_module": "@jupyter-widgets/controls",
      "model_module_version": "1.5.0",
      "model_name": "ProgressStyleModel",
      "state": {
       "_model_module": "@jupyter-widgets/controls",
       "_model_module_version": "1.5.0",
       "_model_name": "ProgressStyleModel",
       "_view_count": null,
       "_view_module": "@jupyter-widgets/base",
       "_view_module_version": "1.2.0",
       "_view_name": "StyleView",
       "bar_color": null,
       "description_width": ""
      }
     },
     "d1910389000843a89175e2787612855e": {
      "model_module": "@jupyter-widgets/base",
      "model_module_version": "1.2.0",
      "model_name": "LayoutModel",
      "state": {
       "_model_module": "@jupyter-widgets/base",
       "_model_module_version": "1.2.0",
       "_model_name": "LayoutModel",
       "_view_count": null,
       "_view_module": "@jupyter-widgets/base",
       "_view_module_version": "1.2.0",
       "_view_name": "LayoutView",
       "align_content": null,
       "align_items": null,
       "align_self": null,
       "border": null,
       "bottom": null,
       "display": null,
       "flex": null,
       "flex_flow": null,
       "grid_area": null,
       "grid_auto_columns": null,
       "grid_auto_flow": null,
       "grid_auto_rows": null,
       "grid_column": null,
       "grid_gap": null,
       "grid_row": null,
       "grid_template_areas": null,
       "grid_template_columns": null,
       "grid_template_rows": null,
       "height": null,
       "justify_content": null,
       "justify_items": null,
       "left": null,
       "margin": null,
       "max_height": null,
       "max_width": null,
       "min_height": null,
       "min_width": null,
       "object_fit": null,
       "object_position": null,
       "order": null,
       "overflow": null,
       "overflow_x": null,
       "overflow_y": null,
       "padding": null,
       "right": null,
       "top": null,
       "visibility": null,
       "width": null
      }
     }
    },
    "version_major": 2,
    "version_minor": 0
   }
  }
 },
 "nbformat": 4,
 "nbformat_minor": 5
}
